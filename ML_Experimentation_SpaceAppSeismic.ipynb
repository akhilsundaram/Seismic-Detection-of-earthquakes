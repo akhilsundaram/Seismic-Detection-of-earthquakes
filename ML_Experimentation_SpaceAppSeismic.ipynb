{
  "cells": [
    {
      "cell_type": "code",
      "source": [
        "!pip install Obspy"
      ],
      "metadata": {
        "colab": {
          "base_uri": "https://localhost:8080/"
        },
        "id": "WGkW0wI_ZqXZ",
        "outputId": "71635b8f-7ccc-4f33-d5d1-9863e2e16294"
      },
      "id": "WGkW0wI_ZqXZ",
      "execution_count": 4,
      "outputs": [
        {
          "output_type": "stream",
          "name": "stdout",
          "text": [
            "Requirement already satisfied: Obspy in /usr/local/lib/python3.10/dist-packages (1.4.1)\n",
            "Requirement already satisfied: numpy>=1.20 in /usr/local/lib/python3.10/dist-packages (from Obspy) (1.26.4)\n",
            "Requirement already satisfied: scipy>=1.7 in /usr/local/lib/python3.10/dist-packages (from Obspy) (1.13.1)\n",
            "Requirement already satisfied: matplotlib>=3.3 in /usr/local/lib/python3.10/dist-packages (from Obspy) (3.7.1)\n",
            "Requirement already satisfied: lxml in /usr/local/lib/python3.10/dist-packages (from Obspy) (4.9.4)\n",
            "Requirement already satisfied: setuptools in /usr/local/lib/python3.10/dist-packages (from Obspy) (71.0.4)\n",
            "Requirement already satisfied: sqlalchemy<2 in /usr/local/lib/python3.10/dist-packages (from Obspy) (1.4.54)\n",
            "Requirement already satisfied: decorator in /usr/local/lib/python3.10/dist-packages (from Obspy) (4.4.2)\n",
            "Requirement already satisfied: requests in /usr/local/lib/python3.10/dist-packages (from Obspy) (2.32.3)\n",
            "Requirement already satisfied: contourpy>=1.0.1 in /usr/local/lib/python3.10/dist-packages (from matplotlib>=3.3->Obspy) (1.3.0)\n",
            "Requirement already satisfied: cycler>=0.10 in /usr/local/lib/python3.10/dist-packages (from matplotlib>=3.3->Obspy) (0.12.1)\n",
            "Requirement already satisfied: fonttools>=4.22.0 in /usr/local/lib/python3.10/dist-packages (from matplotlib>=3.3->Obspy) (4.54.1)\n",
            "Requirement already satisfied: kiwisolver>=1.0.1 in /usr/local/lib/python3.10/dist-packages (from matplotlib>=3.3->Obspy) (1.4.7)\n",
            "Requirement already satisfied: packaging>=20.0 in /usr/local/lib/python3.10/dist-packages (from matplotlib>=3.3->Obspy) (24.1)\n",
            "Requirement already satisfied: pillow>=6.2.0 in /usr/local/lib/python3.10/dist-packages (from matplotlib>=3.3->Obspy) (10.4.0)\n",
            "Requirement already satisfied: pyparsing>=2.3.1 in /usr/local/lib/python3.10/dist-packages (from matplotlib>=3.3->Obspy) (3.1.4)\n",
            "Requirement already satisfied: python-dateutil>=2.7 in /usr/local/lib/python3.10/dist-packages (from matplotlib>=3.3->Obspy) (2.8.2)\n",
            "Requirement already satisfied: greenlet!=0.4.17 in /usr/local/lib/python3.10/dist-packages (from sqlalchemy<2->Obspy) (3.1.1)\n",
            "Requirement already satisfied: charset-normalizer<4,>=2 in /usr/local/lib/python3.10/dist-packages (from requests->Obspy) (3.3.2)\n",
            "Requirement already satisfied: idna<4,>=2.5 in /usr/local/lib/python3.10/dist-packages (from requests->Obspy) (3.10)\n",
            "Requirement already satisfied: urllib3<3,>=1.21.1 in /usr/local/lib/python3.10/dist-packages (from requests->Obspy) (2.2.3)\n",
            "Requirement already satisfied: certifi>=2017.4.17 in /usr/local/lib/python3.10/dist-packages (from requests->Obspy) (2024.8.30)\n",
            "Requirement already satisfied: six>=1.5 in /usr/local/lib/python3.10/dist-packages (from python-dateutil>=2.7->matplotlib>=3.3->Obspy) (1.16.0)\n"
          ]
        }
      ]
    },
    {
      "cell_type": "code",
      "execution_count": 5,
      "id": "5aed08ff-db7b-48f2-807a-b734b5656ebd",
      "metadata": {
        "id": "5aed08ff-db7b-48f2-807a-b734b5656ebd"
      },
      "outputs": [],
      "source": [
        "# Import libraries\n",
        "import numpy as np\n",
        "import pandas as pd\n",
        "from obspy import read\n",
        "from datetime import datetime, timedelta\n",
        "import matplotlib.pyplot as plt\n",
        "import os"
      ]
    },
    {
      "cell_type": "markdown",
      "source": [
        "## Visual Detection from Plots using CNN"
      ],
      "metadata": {
        "id": "__6o5OUbr7nR"
      },
      "id": "__6o5OUbr7nR"
    },
    {
      "cell_type": "code",
      "source": [
        "from google.colab import drive\n",
        "drive.mount('/content/drive')"
      ],
      "metadata": {
        "colab": {
          "base_uri": "https://localhost:8080/"
        },
        "id": "Rzdid0dWXMr4",
        "outputId": "c44df598-808b-4913-a942-ac6de0134a67"
      },
      "id": "Rzdid0dWXMr4",
      "execution_count": 7,
      "outputs": [
        {
          "output_type": "stream",
          "name": "stdout",
          "text": [
            "Drive already mounted at /content/drive; to attempt to forcibly remount, call drive.mount(\"/content/drive\", force_remount=True).\n"
          ]
        }
      ]
    },
    {
      "cell_type": "code",
      "source": [
        "from PIL import Image\n",
        "def crop_top_percentage(image_path, target_size, percentage):\n",
        "    # Load the image\n",
        "    img = tf.keras.preprocessing.image.load_img(image_path, target_size=target_size)\n",
        "    img_array = tf.keras.preprocessing.image.img_to_array(img)\n",
        "\n",
        "    # Calculate the number of pixels to keep\n",
        "    height = img_array.shape[0]\n",
        "    keep_height = int(height * percentage)\n",
        "\n",
        "    # Crop the image\n",
        "    cropped_img_array = img_array[:keep_height, :, :]\n",
        "\n",
        "    # Convert back to image\n",
        "    cropped_img = Image.fromarray(np.uint8(cropped_img_array))\n",
        "\n",
        "    return cropped_img"
      ],
      "metadata": {
        "id": "CX612mLHcLhq"
      },
      "id": "CX612mLHcLhq",
      "execution_count": 9,
      "outputs": []
    },
    {
      "cell_type": "code",
      "source": [
        "import numpy as np\n",
        "import tensorflow as tf\n",
        "import os\n",
        "from tensorflow.keras.models import Sequential\n",
        "from tensorflow.keras.layers import Conv2D, MaxPooling2D, Flatten, Dense\n",
        "from tensorflow.keras.preprocessing.image import ImageDataGenerator\n",
        "\n",
        "# Load and preprocess images\n",
        "path_prefix = \"/content/drive/MyDrive/SpaceApps\"\n",
        "data_directory = path_prefix + '/data/lunar/training/plots/'\n",
        "def load_and_preprocess_images(image_paths, old_labels):\n",
        "    images = []\n",
        "    labels = []\n",
        "    for i in range(len(image_paths)):\n",
        "        image = image_paths[i]\n",
        "        label = old_labels[i]\n",
        "\n",
        "        path = f'{data_directory}{image}.png'\n",
        "        if not os.path.isfile(path):\n",
        "            print(f\"File {path} does not exist.\")\n",
        "            continue\n",
        "        img = tf.keras.preprocessing.image.load_img(path, target_size=(128, 128))\n",
        "        img_array = tf.keras.preprocessing.image.img_to_array(img)\n",
        "        images.append(img_array)\n",
        "        labels.append(label)\n",
        "    images = np.array(images) / 255.0  # Normalize\n",
        "    labels = np.array(labels)\n",
        "    return images, labels\n",
        "\n",
        "# Example data\n",
        "\n",
        "image_paths, labels = get_file_and_time_from_catalog()\n",
        "\n",
        "# Load data\n",
        "X, y = load_and_preprocess_images(image_paths, labels)\n",
        "\n",
        "# Split data into training and testing sets\n",
        "from sklearn.model_selection import train_test_split\n",
        "X_train, X_test, y_train, y_test = train_test_split(X, y, test_size=0.2, random_state=42)\n",
        "\n",
        "# Define the CNN model\n",
        "model = Sequential([\n",
        "    Conv2D(32, (3, 3), activation='relu', input_shape=(128, 128, 3)),\n",
        "    MaxPooling2D((2, 2)),\n",
        "    Conv2D(64, (3, 3), activation='relu'),\n",
        "    MaxPooling2D((2, 2)),\n",
        "    Conv2D(128, (3, 3), activation='relu'),\n",
        "    MaxPooling2D((2, 2)),\n",
        "    Flatten(),\n",
        "    Dense(128, activation='relu'),\n",
        "    Dense(1)  # Output layer for regression\n",
        "])\n",
        "\n",
        "# Compile the model\n",
        "model.compile(optimizer='adam', loss='mean_squared_error', metrics=['mae'])\n",
        "\n",
        "# Train the model\n",
        "model.fit(X_train, y_train, epochs=30, batch_size=8, validation_split=0.1)\n",
        "\n",
        "# Evaluate the model\n",
        "loss, mae = model.evaluate(X_test, y_test)\n",
        "print(f'Test MAE: {mae}')\n",
        "\n",
        "# Predict on a new image\n",
        "# new_image_path = 'path/to/new_image.jpg'\n",
        "# new_img = tf.keras.preprocessing.image.load_img(new_image_path, target_size=(128, 128))\n",
        "# new_img_array = tf.keras.preprocessing.image.img_to_array(new_img) / 255.0\n",
        "# new_img_array = np.expand_dims(new_img_array, axis=0)  # Add batch dimension\n",
        "\n",
        "# prediction = model.predict(new_img_array)\n",
        "# print(f'Predicted start time: {prediction[0][0]}')"
      ],
      "metadata": {
        "colab": {
          "base_uri": "https://localhost:8080/"
        },
        "id": "NWn8nFE_V_tB",
        "outputId": "5c93de1c-6112-4017-d439-29d4761df0f4"
      },
      "id": "NWn8nFE_V_tB",
      "execution_count": 13,
      "outputs": [
        {
          "output_type": "stream",
          "name": "stdout",
          "text": [
            "File /content/drive/MyDrive/SpaceApps/data/lunar/training/plots/xa.s12.00.mhz.1970-07-20HR00_evid00010.png does not exist.\n",
            "File /content/drive/MyDrive/SpaceApps/data/lunar/training/plots/xa.s12.00.mhz.1971-04-13HR00_evid00029.png does not exist.\n",
            "File /content/drive/MyDrive/SpaceApps/data/lunar/training/plots/xa.s12.00.mhz.1971-05-12HR00_evid00032.png does not exist.\n",
            "File /content/drive/MyDrive/SpaceApps/data/lunar/training/plots/xa.s12.00.mhz.1972-07-17HR00_evid00067.png does not exist.\n",
            "File /content/drive/MyDrive/SpaceApps/data/lunar/training/plots/xa.s12.00.mhz.1972-07-17HR00_evid00068.png does not exist.\n",
            "File /content/drive/MyDrive/SpaceApps/data/lunar/training/plots/xa.s12.00.mhz.1973-01-18HR00_evid00088.png does not exist.\n",
            "File /content/drive/MyDrive/SpaceApps/data/lunar/training/plots/xa.s12.00.mhz.1973-06-05HR00_evid00108.png does not exist.\n",
            "File /content/drive/MyDrive/SpaceApps/data/lunar/training/plots/xa.s12.00.mhz.1974-04-26HR00_evid00144.png does not exist.\n",
            "File /content/drive/MyDrive/SpaceApps/data/lunar/training/plots/xa.s12.00.mhz.1974-07-06HR00_evid00150.png does not exist.\n",
            "Epoch 1/30\n"
          ]
        },
        {
          "output_type": "stream",
          "name": "stderr",
          "text": [
            "/usr/local/lib/python3.10/dist-packages/keras/src/layers/convolutional/base_conv.py:107: UserWarning: Do not pass an `input_shape`/`input_dim` argument to a layer. When using Sequential models, prefer using an `Input(shape)` object as the first layer in the model instead.\n",
            "  super().__init__(activity_regularizer=activity_regularizer, **kwargs)\n"
          ]
        },
        {
          "output_type": "stream",
          "name": "stdout",
          "text": [
            "\u001b[1m6/6\u001b[0m \u001b[32m━━━━━━━━━━━━━━━━━━━━\u001b[0m\u001b[37m\u001b[0m \u001b[1m3s\u001b[0m 264ms/step - loss: 1869312512.0000 - mae: 36021.8203 - val_loss: 2190007040.0000 - val_mae: 39503.2852\n",
            "Epoch 2/30\n",
            "\u001b[1m6/6\u001b[0m \u001b[32m━━━━━━━━━━━━━━━━━━━━\u001b[0m\u001b[37m\u001b[0m \u001b[1m2s\u001b[0m 228ms/step - loss: 2376800000.0000 - mae: 41527.3398 - val_loss: 1893577088.0000 - val_mae: 35967.1602\n",
            "Epoch 3/30\n",
            "\u001b[1m6/6\u001b[0m \u001b[32m━━━━━━━━━━━━━━━━━━━━\u001b[0m\u001b[37m\u001b[0m \u001b[1m1s\u001b[0m 230ms/step - loss: 1934843392.0000 - mae: 36277.8359 - val_loss: 879820864.0000 - val_mae: 22767.7559\n",
            "Epoch 4/30\n",
            "\u001b[1m6/6\u001b[0m \u001b[32m━━━━━━━━━━━━━━━━━━━━\u001b[0m\u001b[37m\u001b[0m \u001b[1m3s\u001b[0m 267ms/step - loss: 926414784.0000 - mae: 25129.0020 - val_loss: 893614912.0000 - val_mae: 25259.6348\n",
            "Epoch 5/30\n",
            "\u001b[1m6/6\u001b[0m \u001b[32m━━━━━━━━━━━━━━━━━━━━\u001b[0m\u001b[37m\u001b[0m \u001b[1m3s\u001b[0m 370ms/step - loss: 857447808.0000 - mae: 25195.0293 - val_loss: 682945920.0000 - val_mae: 20666.1914\n",
            "Epoch 6/30\n",
            "\u001b[1m6/6\u001b[0m \u001b[32m━━━━━━━━━━━━━━━━━━━━\u001b[0m\u001b[37m\u001b[0m \u001b[1m2s\u001b[0m 269ms/step - loss: 669067456.0000 - mae: 22105.3281 - val_loss: 727987456.0000 - val_mae: 20651.3105\n",
            "Epoch 7/30\n",
            "\u001b[1m6/6\u001b[0m \u001b[32m━━━━━━━━━━━━━━━━━━━━\u001b[0m\u001b[37m\u001b[0m \u001b[1m1s\u001b[0m 225ms/step - loss: 885983232.0000 - mae: 26304.0078 - val_loss: 652398400.0000 - val_mae: 20736.7988\n",
            "Epoch 8/30\n",
            "\u001b[1m6/6\u001b[0m \u001b[32m━━━━━━━━━━━━━━━━━━━━\u001b[0m\u001b[37m\u001b[0m \u001b[1m3s\u001b[0m 228ms/step - loss: 609246656.0000 - mae: 21396.7949 - val_loss: 647753728.0000 - val_mae: 20734.0020\n",
            "Epoch 9/30\n",
            "\u001b[1m6/6\u001b[0m \u001b[32m━━━━━━━━━━━━━━━━━━━━\u001b[0m\u001b[37m\u001b[0m \u001b[1m3s\u001b[0m 224ms/step - loss: 641002752.0000 - mae: 22263.1230 - val_loss: 671791552.0000 - val_mae: 20678.0488\n",
            "Epoch 10/30\n",
            "\u001b[1m6/6\u001b[0m \u001b[32m━━━━━━━━━━━━━━━━━━━━\u001b[0m\u001b[37m\u001b[0m \u001b[1m1s\u001b[0m 226ms/step - loss: 667460608.0000 - mae: 23045.0684 - val_loss: 639394368.0000 - val_mae: 20707.7012\n",
            "Epoch 11/30\n",
            "\u001b[1m6/6\u001b[0m \u001b[32m━━━━━━━━━━━━━━━━━━━━\u001b[0m\u001b[37m\u001b[0m \u001b[1m3s\u001b[0m 405ms/step - loss: 665870912.0000 - mae: 23049.4609 - val_loss: 637980352.0000 - val_mae: 20719.3203\n",
            "Epoch 12/30\n",
            "\u001b[1m6/6\u001b[0m \u001b[32m━━━━━━━━━━━━━━━━━━━━\u001b[0m\u001b[37m\u001b[0m \u001b[1m2s\u001b[0m 372ms/step - loss: 793825280.0000 - mae: 25321.7656 - val_loss: 638340096.0000 - val_mae: 20721.6641\n",
            "Epoch 13/30\n",
            "\u001b[1m6/6\u001b[0m \u001b[32m━━━━━━━━━━━━━━━━━━━━\u001b[0m\u001b[37m\u001b[0m \u001b[1m2s\u001b[0m 226ms/step - loss: 716519104.0000 - mae: 24037.2578 - val_loss: 639813056.0000 - val_mae: 20726.0781\n",
            "Epoch 14/30\n",
            "\u001b[1m6/6\u001b[0m \u001b[32m━━━━━━━━━━━━━━━━━━━━\u001b[0m\u001b[37m\u001b[0m \u001b[1m1s\u001b[0m 226ms/step - loss: 650261952.0000 - mae: 23502.4863 - val_loss: 638313920.0000 - val_mae: 20712.7715\n",
            "Epoch 15/30\n",
            "\u001b[1m6/6\u001b[0m \u001b[32m━━━━━━━━━━━━━━━━━━━━\u001b[0m\u001b[37m\u001b[0m \u001b[1m1s\u001b[0m 227ms/step - loss: 661353344.0000 - mae: 22774.5332 - val_loss: 640660800.0000 - val_mae: 20707.2988\n",
            "Epoch 16/30\n",
            "\u001b[1m6/6\u001b[0m \u001b[32m━━━━━━━━━━━━━━━━━━━━\u001b[0m\u001b[37m\u001b[0m \u001b[1m1s\u001b[0m 225ms/step - loss: 791605312.0000 - mae: 26015.5391 - val_loss: 638765504.0000 - val_mae: 20725.0547\n",
            "Epoch 17/30\n",
            "\u001b[1m6/6\u001b[0m \u001b[32m━━━━━━━━━━━━━━━━━━━━\u001b[0m\u001b[37m\u001b[0m \u001b[1m3s\u001b[0m 224ms/step - loss: 694861440.0000 - mae: 23842.0938 - val_loss: 639196928.0000 - val_mae: 20727.0254\n",
            "Epoch 18/30\n",
            "\u001b[1m6/6\u001b[0m \u001b[32m━━━━━━━━━━━━━━━━━━━━\u001b[0m\u001b[37m\u001b[0m \u001b[1m1s\u001b[0m 227ms/step - loss: 590431232.0000 - mae: 21587.0918 - val_loss: 638413824.0000 - val_mae: 20714.9688\n",
            "Epoch 19/30\n",
            "\u001b[1m6/6\u001b[0m \u001b[32m━━━━━━━━━━━━━━━━━━━━\u001b[0m\u001b[37m\u001b[0m \u001b[1m3s\u001b[0m 385ms/step - loss: 614380416.0000 - mae: 22615.3906 - val_loss: 646571072.0000 - val_mae: 20701.7715\n",
            "Epoch 20/30\n",
            "\u001b[1m6/6\u001b[0m \u001b[32m━━━━━━━━━━━━━━━━━━━━\u001b[0m\u001b[37m\u001b[0m \u001b[1m2s\u001b[0m 362ms/step - loss: 644136640.0000 - mae: 22503.9277 - val_loss: 637982784.0000 - val_mae: 20718.4082\n",
            "Epoch 21/30\n",
            "\u001b[1m6/6\u001b[0m \u001b[32m━━━━━━━━━━━━━━━━━━━━\u001b[0m\u001b[37m\u001b[0m \u001b[1m1s\u001b[0m 228ms/step - loss: 617610112.0000 - mae: 22225.9863 - val_loss: 643991616.0000 - val_mae: 20737.6973\n",
            "Epoch 22/30\n",
            "\u001b[1m6/6\u001b[0m \u001b[32m━━━━━━━━━━━━━━━━━━━━\u001b[0m\u001b[37m\u001b[0m \u001b[1m3s\u001b[0m 224ms/step - loss: 688355392.0000 - mae: 24094.2207 - val_loss: 639439616.0000 - val_mae: 20713.9590\n",
            "Epoch 23/30\n",
            "\u001b[1m6/6\u001b[0m \u001b[32m━━━━━━━━━━━━━━━━━━━━\u001b[0m\u001b[37m\u001b[0m \u001b[1m3s\u001b[0m 229ms/step - loss: 688811712.0000 - mae: 23650.3652 - val_loss: 637959232.0000 - val_mae: 20719.6836\n",
            "Epoch 24/30\n",
            "\u001b[1m6/6\u001b[0m \u001b[32m━━━━━━━━━━━━━━━━━━━━\u001b[0m\u001b[37m\u001b[0m \u001b[1m3s\u001b[0m 226ms/step - loss: 704356288.0000 - mae: 24535.3789 - val_loss: 638022976.0000 - val_mae: 20725.9395\n",
            "Epoch 25/30\n",
            "\u001b[1m6/6\u001b[0m \u001b[32m━━━━━━━━━━━━━━━━━━━━\u001b[0m\u001b[37m\u001b[0m \u001b[1m4s\u001b[0m 396ms/step - loss: 680526464.0000 - mae: 23326.2227 - val_loss: 642017664.0000 - val_mae: 20736.7598\n",
            "Epoch 26/30\n",
            "\u001b[1m6/6\u001b[0m \u001b[32m━━━━━━━━━━━━━━━━━━━━\u001b[0m\u001b[37m\u001b[0m \u001b[1m2s\u001b[0m 400ms/step - loss: 764836544.0000 - mae: 25181.8945 - val_loss: 650441152.0000 - val_mae: 20701.1406\n",
            "Epoch 27/30\n",
            "\u001b[1m6/6\u001b[0m \u001b[32m━━━━━━━━━━━━━━━━━━━━\u001b[0m\u001b[37m\u001b[0m \u001b[1m2s\u001b[0m 227ms/step - loss: 751811584.0000 - mae: 24708.8184 - val_loss: 637913920.0000 - val_mae: 20726.8281\n",
            "Epoch 28/30\n",
            "\u001b[1m6/6\u001b[0m \u001b[32m━━━━━━━━━━━━━━━━━━━━\u001b[0m\u001b[37m\u001b[0m \u001b[1m3s\u001b[0m 226ms/step - loss: 645713024.0000 - mae: 22681.6895 - val_loss: 646799360.0000 - val_mae: 20744.6855\n",
            "Epoch 29/30\n",
            "\u001b[1m6/6\u001b[0m \u001b[32m━━━━━━━━━━━━━━━━━━━━\u001b[0m\u001b[37m\u001b[0m \u001b[1m3s\u001b[0m 226ms/step - loss: 687081664.0000 - mae: 23658.3164 - val_loss: 641132288.0000 - val_mae: 20737.3340\n",
            "Epoch 30/30\n",
            "\u001b[1m6/6\u001b[0m \u001b[32m━━━━━━━━━━━━━━━━━━━━\u001b[0m\u001b[37m\u001b[0m \u001b[1m1s\u001b[0m 229ms/step - loss: 617815232.0000 - mae: 21652.8027 - val_loss: 646511552.0000 - val_mae: 20707.0215\n",
            "\u001b[1m1/1\u001b[0m \u001b[32m━━━━━━━━━━━━━━━━━━━━\u001b[0m\u001b[37m\u001b[0m \u001b[1m0s\u001b[0m 114ms/step - loss: 608398976.0000 - mae: 21931.8477\n",
            "Test MAE: 21931.84765625\n"
          ]
        }
      ]
    },
    {
      "cell_type": "markdown",
      "source": [
        "## LSTM"
      ],
      "metadata": {
        "id": "qXpEOtkPsHZj"
      },
      "id": "qXpEOtkPsHZj"
    },
    {
      "cell_type": "code",
      "source": [
        "def get_file_and_time_from_catalog():\n",
        "  cat_directory = '/content/drive/MyDrive/SpaceApps/data/lunar/training/catalogs/'\n",
        "  cat_file = cat_directory + 'apollo12_catalog_GradeA_final.csv'\n",
        "  cat = pd.read_csv(cat_file)\n",
        "  return cat['filename'].tolist(), cat['time_rel(sec)']\n"
      ],
      "metadata": {
        "id": "XL-h1pdVWVSk"
      },
      "id": "XL-h1pdVWVSk",
      "execution_count": 7,
      "outputs": []
    },
    {
      "cell_type": "code",
      "source": [
        "import os\n",
        "import numpy as np\n",
        "import torch\n",
        "import torch.nn as nn\n",
        "from torch.utils.data import Dataset, DataLoader\n",
        "from obspy import read\n",
        "from sklearn.model_selection import train_test_split\n",
        "\n",
        "path_prefix = \"/content/drive/MyDrive/SpaceApps\"\n",
        "data_directory = path_prefix + '/data/lunar/training/data/S12_GradeA/'\n",
        "\n",
        "# Custom Dataset class\n",
        "class SeismicDataset(Dataset):\n",
        "    def __init__(self, file_paths, labels, max_length=None):\n",
        "        self.data = []\n",
        "        self.labels = labels\n",
        "        for path in file_paths:\n",
        "            full_path = f'{data_directory}{path}.mseed'\n",
        "            if not os.path.isfile(full_path):\n",
        "                print(f\"File {full_path} does not exist.\")\n",
        "                continue\n",
        "            st = read(full_path)\n",
        "            tr = st.traces[0]\n",
        "            tr_data = tr.data / np.max(np.abs(tr.data))\n",
        "\n",
        "            if max_length is None:\n",
        "                max_length = len(tr_data)\n",
        "\n",
        "            if len(tr_data) < max_length:\n",
        "                padded_data = np.pad(tr_data, (0, max_length - len(tr_data)), 'constant')\n",
        "            else:\n",
        "                padded_data = tr_data[:max_length]\n",
        "\n",
        "            self.data.append(padded_data)\n",
        "\n",
        "        self.data = np.array(self.data)\n",
        "\n",
        "    def __len__(self):\n",
        "        return len(self.data)\n",
        "\n",
        "    def __getitem__(self, idx):\n",
        "        sample = torch.tensor(self.data[idx], dtype=torch.float32).unsqueeze(1)  # Add feature dimension\n",
        "        label = torch.tensor(self.labels[idx], dtype=torch.float32)\n",
        "        return sample, label\n",
        "\n",
        "# Define the LSTM model\n",
        "class LSTMModel(nn.Module):\n",
        "    def __init__(self, input_size=1, hidden_size=64, num_layers=1):\n",
        "        super(LSTMModel, self).__init__()\n",
        "        self.lstm = nn.LSTM(input_size, hidden_size, num_layers, batch_first=True)\n",
        "        self.fc = nn.Linear(hidden_size, 1)\n",
        "\n",
        "    def forward(self, x):\n",
        "        out, _ = self.lstm(x)\n",
        "        out = self.fc(out[:, -1, :])  # Take the last time step's output\n",
        "        return out\n",
        "\n",
        "# Load data\n",
        "file_names, labels = get_file_and_time_from_catalog()\n",
        "max_length = 200000  # Set a fixed length for all sequences\n",
        "\n",
        "# Create dataset and dataloaders\n",
        "dataset = SeismicDataset(file_names, labels, max_length=max_length)\n",
        "train_size = int(0.8 * len(dataset))\n",
        "test_size = len(dataset) - train_size\n",
        "train_dataset, test_dataset = torch.utils.data.random_split(dataset, [train_size, test_size])\n",
        "\n",
        "train_loader = DataLoader(train_dataset, batch_size=32, shuffle=True)\n",
        "test_loader = DataLoader(test_dataset, batch_size=32)\n",
        "\n",
        "# Initialize model, loss function and optimizer\n",
        "model = LSTMModel()\n",
        "criterion = nn.MSELoss()\n",
        "optimizer = torch.optim.Adam(model.parameters(), lr=0.001)\n",
        "\n",
        "# Training loop\n",
        "num_epochs = 10\n",
        "for epoch in range(num_epochs):\n",
        "    model.train()\n",
        "    for inputs, targets in train_loader:\n",
        "        optimizer.zero_grad()\n",
        "        outputs = model(inputs)\n",
        "        loss = criterion(outputs.squeeze(), targets)\n",
        "        loss.backward()\n",
        "        optimizer.step()\n",
        "\n",
        "    print(f'Epoch [{epoch+1}/{num_epochs}], Loss: {loss.item():.4f}')\n",
        "\n",
        "# Evaluation loop\n",
        "model.eval()\n",
        "with torch.no_grad():\n",
        "    total_loss = 0\n",
        "    for inputs, targets in test_loader:\n",
        "        outputs = model(inputs)\n",
        "        loss = criterion(outputs.squeeze(), targets)\n",
        "        total_loss += loss.item()\n",
        "\n",
        "average_loss = total_loss / len(test_loader)\n",
        "print(f'Test MAE: {average_loss:.4f}')"
      ],
      "metadata": {
        "id": "rj8sx9a3ca1k"
      },
      "id": "rj8sx9a3ca1k",
      "execution_count": null,
      "outputs": []
    },
    {
      "cell_type": "code",
      "source": [],
      "metadata": {
        "id": "GHTV9Zeg4Cxn"
      },
      "id": "GHTV9Zeg4Cxn",
      "execution_count": null,
      "outputs": []
    }
  ],
  "metadata": {
    "kernelspec": {
      "display_name": "Python 3",
      "name": "python3"
    },
    "language_info": {
      "codemirror_mode": {
        "name": "ipython",
        "version": 3
      },
      "file_extension": ".py",
      "mimetype": "text/x-python",
      "name": "python",
      "nbconvert_exporter": "python",
      "pygments_lexer": "ipython3",
      "version": "3.9.16"
    },
    "colab": {
      "provenance": []
    }
  },
  "nbformat": 4,
  "nbformat_minor": 5
}